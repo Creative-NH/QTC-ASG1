{
 "cells": [
  {
   "cell_type": "code",
   "execution_count": null,
   "metadata": {},
   "outputs": [],
   "source": [
    "# Purpose of this code is to encode a secret number into a quantum oracle \n",
    "# circuit and save it to a file for BV to decrypt"
   ]
  },
  {
   "cell_type": "code",
   "execution_count": null,
   "metadata": {},
   "outputs": [],
   "source": [
    "# Import libraries\n",
    "from qiskit import QuantumCircuit\n",
    "import qiskit.qpy as qpy  # QPY is used for serialization"
   ]
  },
  {
   "cell_type": "code",
   "execution_count": null,
   "metadata": {},
   "outputs": [],
   "source": [
    "# Create oracle\n",
    " \n",
    "def create_oracle_circuit(secret_number: int) -> QuantumCircuit:\n",
    "    \"\"\"\n",
    "    Create an oracle circuit that encodes the secret number.\n",
    "\n",
    "    The secret number is converted into binary. For every bit that is '1',\n",
    "    a CNOT gate is added from the corresponding input qubit to the ancilla qubit.\n",
    "    \n",
    "    Parameters:\n",
    "        secret_number (int): The secret number to encode.\n",
    "\n",
    "    Returns:\n",
    "        QuantumCircuit: The circuit implementing the oracle.\n",
    "    \"\"\"\n",
    "    # Convert the number to a binary string.\n",
    "    binary_str = format(secret_number, \"b\")\n",
    "    n = len(binary_str)  # number of input qubits required\n",
    "\n",
    "    # Create a circuit with n+1 qubits (n input qubits, plus 1 ancilla).\n",
    "    oracle_circ = QuantumCircuit(n + 1, n)\n",
    "\n",
    "    # For each '1' in the binary string (reading right-to-left),\n",
    "    # add a CNOT gate from that qubit to the ancilla (last qubit).\n",
    "    for i, bit in enumerate(reversed(binary_str)):\n",
    "        if bit == '1':\n",
    "            oracle_circ.cx(i, n)\n",
    "\n",
    "    oracle_circ.name = \"SecretOracle\"\n",
    "    return oracle_circ\n",
    "\n",
    "def main():\n",
    "    secret = int(input(\"Enter your secret number: \"))\n",
    "    oracle_circ = create_oracle_circuit(secret)\n",
    "    \n",
    "    # Save the oracle circuit to a QPY file.\n",
    "    qpy_filename = \"oracle.qpy\"\n",
    "    with open(qpy_filename, \"wb\") as f:\n",
    "        qpy.dump(oracle_circ, f)\n",
    "    print(f\"Oracle circuit for secret {secret} has been saved to '{qpy_filename}'.\")\n",
    "\n",
    "if __name__ == \"__main__\":\n",
    "    main()\n"
   ]
  }
 ],
 "metadata": {
  "language_info": {
   "name": "python"
  }
 },
 "nbformat": 4,
 "nbformat_minor": 2
}
