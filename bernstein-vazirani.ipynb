{
 "cells": [
  {
   "cell_type": "code",
   "execution_count": null,
   "metadata": {},
   "outputs": [],
   "source": []
  }
 ],
 "metadata": {
  "kernelspec": {
   "display_name": "Python 3.12.4 ('base')",
   "language": "python",
   "name": "python3"
  },
  "language_info": {
   "name": "python",
   "version": "3.12.4"
  },
  "orig_nbformat": 4,
  "vscode": {
   "interpreter": {
    "hash": "9740a5a6f403a4262f61821acf14e2a58f4fd4988a600eecd7dd8207485b265c"
   }
  }
 },
 "nbformat": 4,
 "nbformat_minor": 2
}
