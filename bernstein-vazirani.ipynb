{
 "cells": [
  {
   "cell_type": "code",
   "execution_count": null,
   "metadata": {},
   "outputs": [],
   "source": [
    "\n",
    "# Import libaries\n",
    "from qiskit import QuantumCircuit, transpile\n",
    "from qiskit_ibm_runtime import QiskitRuntimeService, SamplerV2 as Sampler\n",
    "from qiskit.transpiler.preset_passmanagers import generate_preset_pass_manager\n",
    "import qiskit.qpy as qpy"
   ]
  },
  {
   "cell_type": "code",
   "execution_count": null,
   "metadata": {},
   "outputs": [],
   "source": [
    "# Contructs and runs BV circuit using provided oracle circuit and returns \"secret number\"\n",
    "def bv_decode(oracle_circ: QuantumCircuit) -> int:\n",
    "    \n",
    "    # Convert the loaded oracle circuit to an instruction.\n",
    "    oracle_inst = oracle_circ.to_instruction()\n",
    "    \n",
    "    # The oracle was built with (n+1) qubits (n input qubits, plus one ancilla).\n",
    "    total_qubits = oracle_inst.num_qubits  # n + 1\n",
    "    n = total_qubits - 1  # number of input qubits\n",
    "\n",
    "    # Build the Bernstein-Vazirani circuit.\n",
    "    circuit = QuantumCircuit(n + 1, n)\n",
    "\n",
    "    # 1. Apply Hadamard gates to all input (query) qubits.\n",
    "    for i in range(n):\n",
    "        circuit.h(i)\n",
    "    \n",
    "    # 2. Prepare the ancilla in the |-> state.\n",
    "    circuit.x(n)\n",
    "    circuit.h(n)\n",
    "    circuit.barrier()\n",
    "    \n",
    "    # 3. Append the oracle.\n",
    "    circuit.append(oracle_inst, list(range(total_qubits)), list(range(n)))\n",
    "    circuit.barrier()\n",
    "    \n",
    "    # 4. Apply Hadamard gates again to all input qubits.\n",
    "    for i in range(n):\n",
    "        circuit.h(i)\n",
    "    circuit.barrier()\n",
    "    \n",
    "    # 5. Measure all input qubits.\n",
    "    for i in range(n):\n",
    "        circuit.measure(i, i)\n",
    "\n",
    "    # Use QiskitRuntimeService to run the circuit on a real IBM Quantum backend.\n",
    "    service = QiskitRuntimeService()\n",
    "    # Choose a backend (for example, the least busy non-simulator device).\n",
    "    backend = service.least_busy(operational=True, simulator=False)\n",
    "    print(\"Using backend:\", backend.name)\n",
    "    \n",
    "    # Optimize the circuit using a preset pass manager.\n",
    "    pm = generate_preset_pass_manager(backend=backend, optimization_level=1)\n",
    "    optimized_circuit = pm.run(circuit)\n",
    "    \n",
    "\n",
    "    sampler = Sampler(backend)\n",
    "    job = sampler.run([optimized_circuit])\n",
    "    \n",
    "    job_result = job.result()\n",
    "    pub_result = job_result[0]\n",
    "\n",
    "    print(\"Job ID:\", job.job_id())\n",
    "    result = job.result()\n",
    "    \n",
    "    # Extract the measurement results.\n",
    "    counts = pub_result.data.c.get_counts()\n",
    "\n",
    "    secret_bitstring = max(counts, key=counts.get)\n",
    "    recovered_secret = int(secret_bitstring, 2)\n",
    "    return recovered_secret"
   ]
  },
  {
   "cell_type": "code",
   "execution_count": null,
   "metadata": {},
   "outputs": [],
   "source": [
    "# \n",
    "def main():\n",
    "    # Load the oracle circuit from the QPY file.\n",
    "    qpy_filename = \"oracle.qpy\"\n",
    "    with open(qpy_filename, \"rb\") as f:\n",
    "        loaded_oracles = qpy.load(f)\n",
    "    # qpy.load returns a list; take the first (and only) element.\n",
    "    oracle_circ = loaded_oracles[0]\n",
    "    \n",
    "    # Run the BV algorithm to decode the secret using the loaded oracle.\n",
    "    recovered_secret = bv_decode(oracle_circ)\n",
    "    print(f\"Recovered secret: {recovered_secret}\")\n",
    "\n",
    "if __name__ == \"__main__\":\n",
    "    main()\n"
   ]
  }
 ],
 "metadata": {
  "kernelspec": {
   "display_name": "Python 3.12.4 ('base')",
   "language": "python",
   "name": "python3"
  },
  "language_info": {
   "name": "python",
   "version": "3.12.4"
  },
  "orig_nbformat": 4,
  "vscode": {
   "interpreter": {
    "hash": "9740a5a6f403a4262f61821acf14e2a58f4fd4988a600eecd7dd8207485b265c"
   }
  }
 },
 "nbformat": 4,
 "nbformat_minor": 2
}
